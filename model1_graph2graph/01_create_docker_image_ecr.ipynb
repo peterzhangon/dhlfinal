{
 "cells": [
  {
   "cell_type": "markdown",
   "id": "accomplished-transcription",
   "metadata": {},
   "source": [
    "### 1. Build the docker image for the model"
   ]
  },
  {
   "cell_type": "code",
   "execution_count": 2,
   "id": "complete-oriental",
   "metadata": {},
   "outputs": [],
   "source": []
  },
  {
   "cell_type": "code",
   "execution_count": 1,
   "id": "exotic-brazilian",
   "metadata": {},
   "outputs": [
    {
     "name": "stdout",
     "output_type": "stream",
     "text": [
      "Login Succeeded\n",
      "Login Succeeded\n",
      "Sending build context to Docker daemon  14.34kB\r",
      "\r\n",
      "Step 1/6 : ARG REGION=us-west-2\n",
      "Step 2/6 : FROM 520713654638.dkr.ecr.$REGION.amazonaws.com/sagemaker-pytorch:0.4.0-cpu-py3\n",
      " ---> 11e92f8d88a4\n",
      "Step 3/6 : ENV PATH=\"/opt/ml/code:${PATH}\"\n",
      " ---> Using cache\n",
      " ---> 22c510b9e585\n",
      "Step 4/6 : COPY /cifar10 /opt/ml/code\n",
      " ---> Using cache\n",
      " ---> e0e86498867c\n",
      "Step 5/6 : ENV SAGEMAKER_SUBMIT_DIRECTORY /opt/ml/code\n",
      " ---> Using cache\n",
      " ---> fdfa6ebaaf24\n",
      "Step 6/6 : ENV SAGEMAKER_PROGRAM cifar10.py\n",
      " ---> Using cache\n",
      " ---> 913071e83d26\n",
      "Successfully built 913071e83d26\n",
      "Successfully tagged model-1-graph2graph-gpu:latest\n",
      "The push refers to repository [739085167460.dkr.ecr.us-east-2.amazonaws.com/model-1-graph2graph-gpu]\n",
      "92af458f91a3: Preparing\n",
      "1e95f2314d9e: Preparing\n",
      "6925e67bc96f: Preparing\n",
      "92767847d831: Preparing\n",
      "c6618b7eae39: Preparing\n",
      "7088d75c498e: Preparing\n",
      "ee905f515781: Preparing\n",
      "9fb660580ee6: Preparing\n",
      "ebf8767b42f1: Preparing\n",
      "3db5746c911a: Preparing\n",
      "819a824caf70: Preparing\n",
      "647265b9d8bc: Preparing\n",
      "41c002c8a6fd: Preparing\n",
      "9fb660580ee6: Waiting\n",
      "ebf8767b42f1: Waiting\n",
      "3db5746c911a: Waiting\n",
      "819a824caf70: Waiting\n",
      "647265b9d8bc: Waiting\n",
      "41c002c8a6fd: Waiting\n",
      "7088d75c498e: Waiting\n",
      "ee905f515781: Waiting\n",
      "92af458f91a3: Pushed\n",
      "92767847d831: Pushed\n",
      "c6618b7eae39: Pushed\n",
      "6925e67bc96f: Pushed\n",
      "7088d75c498e: Pushed\n",
      "3db5746c911a: Pushed\n",
      "9fb660580ee6: Pushed\n",
      "819a824caf70: Pushed\n",
      "647265b9d8bc: Pushed\n",
      "1e95f2314d9e: Pushed\n",
      "41c002c8a6fd: Pushed\n",
      "ebf8767b42f1: Pushed\n",
      "ee905f515781: Pushed\n",
      "latest: digest: sha256:05f659f72f46bf901572ce947508f408d7fb496378a307ee9126f57d808da217 size: 3036\n"
     ]
    },
    {
     "name": "stderr",
     "output_type": "stream",
     "text": [
      "WARNING! Using --password via the CLI is insecure. Use --password-stdin.\n",
      "WARNING! Your password will be stored unencrypted in /home/ec2-user/.docker/config.json.\n",
      "Configure a credential helper to remove this warning. See\n",
      "https://docs.docker.com/engine/reference/commandline/login/#credentials-store\n",
      "\n",
      "WARNING! Using --password via the CLI is insecure. Use --password-stdin.\n",
      "WARNING! Your password will be stored unencrypted in /home/ec2-user/.docker/config.json.\n",
      "Configure a credential helper to remove this warning. See\n",
      "https://docs.docker.com/engine/reference/commandline/login/#credentials-store\n",
      "\n"
     ]
    }
   ],
   "source": [
    "%%sh\n",
    "\n",
    "# The name of our algorithm\n",
    "#algorithm_name=pytorch-extending-our-containers-cifar10-example\n",
    "algorithm_name=model-1-graph2graph-gpu\n",
    "\n",
    "cd container\n",
    "\n",
    "account=$(aws sts get-caller-identity --query Account --output text)\n",
    "\n",
    "# Get the region defined in the current configuration (default to us-west-2 if none defined)\n",
    "region=$(aws configure get region)\n",
    "region=${region:-us-west-2}\n",
    "\n",
    "fullname=\"${account}.dkr.ecr.${region}.amazonaws.com/${algorithm_name}:latest\"\n",
    "\n",
    "# If the repository doesn't exist in ECR, create it.\n",
    "\n",
    "aws ecr describe-repositories --repository-names \"${algorithm_name}\" > /dev/null 2>&1\n",
    "\n",
    "if [ $? -ne 0 ]\n",
    "then\n",
    "    aws ecr create-repository --repository-name \"${algorithm_name}\" > /dev/null\n",
    "fi\n",
    "\n",
    "# Get the login command from ECR and execute it directly\n",
    "$(aws ecr get-login --region ${region} --no-include-email)\n",
    "\n",
    "# Get the login command from ECR in order to pull down the SageMaker PyTorch image\n",
    "$(aws ecr get-login --registry-ids 520713654638 --region ${region} --no-include-email)\n",
    "\n",
    "# Build the docker image locally with the image name and then push it to ECR\n",
    "# with the full name.\n",
    "\n",
    "docker build  -t ${algorithm_name} . --build-arg REGION=${region}\n",
    "docker tag ${algorithm_name} ${fullname}\n",
    "\n",
    "docker push ${fullname}"
   ]
  }
 ],
 "metadata": {
  "kernelspec": {
   "display_name": "conda_python3",
   "language": "python",
   "name": "conda_python3"
  },
  "language_info": {
   "codemirror_mode": {
    "name": "ipython",
    "version": 3
   },
   "file_extension": ".py",
   "mimetype": "text/x-python",
   "name": "python",
   "nbconvert_exporter": "python",
   "pygments_lexer": "ipython3",
   "version": "3.6.13"
  }
 },
 "nbformat": 4,
 "nbformat_minor": 5
}
