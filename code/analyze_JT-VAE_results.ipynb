{
 "cells": [
  {
   "cell_type": "code",
   "execution_count": 1,
   "metadata": {},
   "outputs": [],
   "source": [
    "import pandas as pd\n",
    "import rdkit\n",
    "import numpy as np\n",
    "import matplotlib.pyplot as plt"
   ]
  },
  {
   "cell_type": "code",
   "execution_count": 36,
   "metadata": {},
   "outputs": [],
   "source": [
    "drd2_df = pd.read_csv('val_drd2.txt', header=None, sep='\\s+')\n",
    "qed_df = pd.read_csv('val_qed.txt', header=None, sep='\\s+')\n",
    "logp06_df = pd.read_csv('val_logp06.txt', header=None, sep='\\s+')\n",
    "logp04_df = pd.read_csv('val_logp04.txt', header=None, sep='\\s+')"
   ]
  },
  {
   "cell_type": "code",
   "execution_count": 37,
   "metadata": {},
   "outputs": [
    {
     "data": {
      "text/html": [
       "<div>\n",
       "<style scoped>\n",
       "    .dataframe tbody tr th:only-of-type {\n",
       "        vertical-align: middle;\n",
       "    }\n",
       "\n",
       "    .dataframe tbody tr th {\n",
       "        vertical-align: top;\n",
       "    }\n",
       "\n",
       "    .dataframe thead th {\n",
       "        text-align: right;\n",
       "    }\n",
       "</style>\n",
       "<table border=\"1\" class=\"dataframe\">\n",
       "  <thead>\n",
       "    <tr style=\"text-align: right;\">\n",
       "      <th></th>\n",
       "      <th>0</th>\n",
       "      <th>1</th>\n",
       "      <th>2</th>\n",
       "      <th>3</th>\n",
       "      <th>4</th>\n",
       "      <th>5</th>\n",
       "    </tr>\n",
       "  </thead>\n",
       "  <tbody>\n",
       "    <tr>\n",
       "      <th>0</th>\n",
       "      <td>0.000973</td>\n",
       "      <td>0.454545</td>\n",
       "      <td>0.000275</td>\n",
       "      <td>0.001248</td>\n",
       "      <td>CCCN(Cc1ccc(C#N)cc1)C(=O)Nc1ccc(F)c(NC(=O)OC)c1</td>\n",
       "      <td>CCCN(Cc1ccc(F)cc1)C(=O)Nc1cccc(CN2CC[C@@H](O)C...</td>\n",
       "    </tr>\n",
       "    <tr>\n",
       "      <th>1</th>\n",
       "      <td>-0.004845</td>\n",
       "      <td>0.306452</td>\n",
       "      <td>0.005265</td>\n",
       "      <td>0.000421</td>\n",
       "      <td>O=C(c1ccc(Br)o1)N1CCc2ccccc21</td>\n",
       "      <td>C[C@@H](Cl)OC(=O)c1ccc(Br)o1</td>\n",
       "    </tr>\n",
       "    <tr>\n",
       "      <th>2</th>\n",
       "      <td>0.000637</td>\n",
       "      <td>0.181102</td>\n",
       "      <td>0.001775</td>\n",
       "      <td>0.002412</td>\n",
       "      <td>COc1ccc2oc(=O)c(C(=O)NCCc3c(C)[nH]c4c(Cl)cccc3...</td>\n",
       "      <td>C[C@@H]1C(=O)O[C@H](C)c2c(OC(C)(C)N3C(=O)C=CN[...</td>\n",
       "    </tr>\n",
       "    <tr>\n",
       "      <th>3</th>\n",
       "      <td>0.004302</td>\n",
       "      <td>0.256881</td>\n",
       "      <td>0.000361</td>\n",
       "      <td>0.004663</td>\n",
       "      <td>Cc1nc2ccccc2n1CCNC(=O)c1ccc(S(C)=O)cc1</td>\n",
       "      <td>C[S@@](=O)C[C@@H](NCCN1C=N[C@]2(C)C=CC=C[C@H]1...</td>\n",
       "    </tr>\n",
       "    <tr>\n",
       "      <th>4</th>\n",
       "      <td>0.053501</td>\n",
       "      <td>0.382114</td>\n",
       "      <td>0.007868</td>\n",
       "      <td>0.061369</td>\n",
       "      <td>Cc1ncc(CN2CCCC(C(=O)Nc3ccc(-c4cccc(F)c4)cc3)C2...</td>\n",
       "      <td>Cc1cnc(CN2CCC[C@H](c3ccc(NC(=O)C[C@H]4CCOC4)cc...</td>\n",
       "    </tr>\n",
       "  </tbody>\n",
       "</table>\n",
       "</div>"
      ],
      "text/plain": [
       "          0         1         2         3  \\\n",
       "0  0.000973  0.454545  0.000275  0.001248   \n",
       "1 -0.004845  0.306452  0.005265  0.000421   \n",
       "2  0.000637  0.181102  0.001775  0.002412   \n",
       "3  0.004302  0.256881  0.000361  0.004663   \n",
       "4  0.053501  0.382114  0.007868  0.061369   \n",
       "\n",
       "                                                   4  \\\n",
       "0    CCCN(Cc1ccc(C#N)cc1)C(=O)Nc1ccc(F)c(NC(=O)OC)c1   \n",
       "1                      O=C(c1ccc(Br)o1)N1CCc2ccccc21   \n",
       "2  COc1ccc2oc(=O)c(C(=O)NCCc3c(C)[nH]c4c(Cl)cccc3...   \n",
       "3             Cc1nc2ccccc2n1CCNC(=O)c1ccc(S(C)=O)cc1   \n",
       "4  Cc1ncc(CN2CCCC(C(=O)Nc3ccc(-c4cccc(F)c4)cc3)C2...   \n",
       "\n",
       "                                                   5  \n",
       "0  CCCN(Cc1ccc(F)cc1)C(=O)Nc1cccc(CN2CC[C@@H](O)C...  \n",
       "1                       C[C@@H](Cl)OC(=O)c1ccc(Br)o1  \n",
       "2  C[C@@H]1C(=O)O[C@H](C)c2c(OC(C)(C)N3C(=O)C=CN[...  \n",
       "3  C[S@@](=O)C[C@@H](NCCN1C=N[C@]2(C)C=CC=C[C@H]1...  \n",
       "4  Cc1cnc(CN2CCC[C@H](c3ccc(NC(=O)C[C@H]4CCOC4)cc...  "
      ]
     },
     "execution_count": 37,
     "metadata": {},
     "output_type": "execute_result"
    }
   ],
   "source": [
    "drd2_df.head()"
   ]
  },
  {
   "cell_type": "markdown",
   "metadata": {},
   "source": [
    "## calculate success rate"
   ]
  },
  {
   "cell_type": "code",
   "execution_count": 38,
   "metadata": {},
   "outputs": [
    {
     "data": {
      "text/plain": [
       "0.10555555555555556"
      ]
     },
     "execution_count": 38,
     "metadata": {},
     "output_type": "execute_result"
    }
   ],
   "source": [
    "np.mean(qed_df.iloc[:,3]>0.9)"
   ]
  },
  {
   "cell_type": "code",
   "execution_count": 39,
   "metadata": {},
   "outputs": [
    {
     "data": {
      "text/plain": [
       "0.010471204188481676"
      ]
     },
     "execution_count": 39,
     "metadata": {},
     "output_type": "execute_result"
    }
   ],
   "source": [
    "np.mean(drd2_df.iloc[:,3]>0.5)"
   ]
  },
  {
   "cell_type": "markdown",
   "metadata": {},
   "source": [
    "## calculate mean improvement"
   ]
  },
  {
   "cell_type": "code",
   "execution_count": 40,
   "metadata": {},
   "outputs": [
    {
     "data": {
      "text/plain": [
       "(0.4775249733968107, 1.309075264252235)"
      ]
     },
     "execution_count": 40,
     "metadata": {},
     "output_type": "execute_result"
    }
   ],
   "source": [
    "np.mean(logp04_df.iloc[:,0]), np.std(logp04_df.iloc[:,0])"
   ]
  },
  {
   "cell_type": "code",
   "execution_count": 42,
   "metadata": {},
   "outputs": [
    {
     "data": {
      "text/plain": [
       "(0.14936111923708592, 0.5581632153129567)"
      ]
     },
     "execution_count": 42,
     "metadata": {},
     "output_type": "execute_result"
    }
   ],
   "source": [
    "np.mean(logp06_df.iloc[:,0]), np.std(logp06_df.iloc[:,0])"
   ]
  },
  {
   "cell_type": "markdown",
   "metadata": {},
   "source": [
    "## calculate validity"
   ]
  },
  {
   "cell_type": "code",
   "execution_count": 69,
   "metadata": {},
   "outputs": [
    {
     "data": {
      "text/plain": [
       "100.0"
      ]
     },
     "execution_count": 69,
     "metadata": {},
     "output_type": "execute_result"
    }
   ],
   "source": [
    "(1-np.mean(pd.isna(drd2_df.iloc[:,5])))*100"
   ]
  },
  {
   "cell_type": "code",
   "execution_count": 70,
   "metadata": {},
   "outputs": [
    {
     "data": {
      "text/plain": [
       "100.0"
      ]
     },
     "execution_count": 70,
     "metadata": {},
     "output_type": "execute_result"
    }
   ],
   "source": [
    "(1-np.mean(pd.isna(qed_df.iloc[:,5])))*100"
   ]
  },
  {
   "cell_type": "code",
   "execution_count": 71,
   "metadata": {},
   "outputs": [
    {
     "data": {
      "text/plain": [
       "100.0"
      ]
     },
     "execution_count": 71,
     "metadata": {},
     "output_type": "execute_result"
    }
   ],
   "source": [
    "(1-np.mean(pd.isna(logp04_df.iloc[:,5])))*100"
   ]
  },
  {
   "cell_type": "code",
   "execution_count": 72,
   "metadata": {},
   "outputs": [
    {
     "data": {
      "text/plain": [
       "100.0"
      ]
     },
     "execution_count": 72,
     "metadata": {},
     "output_type": "execute_result"
    }
   ],
   "source": [
    "(1-np.mean(pd.isna(logp06_df.iloc[:,5])))*100"
   ]
  },
  {
   "cell_type": "code",
   "execution_count": null,
   "metadata": {},
   "outputs": [],
   "source": []
  }
 ],
 "metadata": {
  "kernelspec": {
   "display_name": "Python 3",
   "language": "python",
   "name": "python3"
  },
  "language_info": {
   "codemirror_mode": {
    "name": "ipython",
    "version": 3
   },
   "file_extension": ".py",
   "mimetype": "text/x-python",
   "name": "python",
   "nbconvert_exporter": "python",
   "pygments_lexer": "ipython3",
   "version": "3.8.5"
  }
 },
 "nbformat": 4,
 "nbformat_minor": 4
}
