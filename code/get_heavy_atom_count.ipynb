{
 "cells": [
  {
   "cell_type": "code",
   "execution_count": 3,
   "metadata": {},
   "outputs": [],
   "source": [
    "import rdkit\n",
    "from rdkit import Chem\n",
    "from rdkit.Chem import Lipinski"
   ]
  },
  {
   "cell_type": "code",
   "execution_count": 7,
   "metadata": {},
   "outputs": [
    {
     "name": "stdout",
     "output_type": "stream",
     "text": [
      "\u001b[34mprocessed\u001b[m\u001b[m       test.txt        valid.txt\r\n",
      "target.txt      train_pairs.txt vocab.txt\r\n"
     ]
    }
   ],
   "source": [
    "!ls drd2"
   ]
  },
  {
   "cell_type": "code",
   "execution_count": 33,
   "metadata": {},
   "outputs": [
    {
     "name": "stdout",
     "output_type": "stream",
     "text": [
      "drd2/valid.txt avg_count: 24.7\n",
      "qed/valid.txt avg_count: 22.54\n",
      "logp04/valid.txt avg_count: 20.6\n",
      "logp06/valid.txt avg_count: 20.6\n"
     ]
    }
   ],
   "source": [
    "def get_heavy_atom_count(file):\n",
    "    count = 0\n",
    "    with open(file, 'r') as f:\n",
    "\n",
    "        for i, line in enumerate(f):\n",
    "            s = line.split()[0]\n",
    "    #         print(s)\n",
    "            mol = Chem.MolFromSmiles(s)\n",
    "            count += Lipinski.HeavyAtomCount(mol)\n",
    "    print(file, 'avg_count:', round(count/(i+1),2))\n",
    "\n",
    "get_heavy_atom_count('drd2/valid.txt')\n",
    "get_heavy_atom_count('qed/valid.txt')\n",
    "get_heavy_atom_count('logp04/valid.txt')\n",
    "get_heavy_atom_count('logp06/valid.txt')"
   ]
  },
  {
   "cell_type": "code",
   "execution_count": null,
   "metadata": {},
   "outputs": [],
   "source": []
  }
 ],
 "metadata": {
  "kernelspec": {
   "display_name": "Python 3",
   "language": "python",
   "name": "python3"
  },
  "language_info": {
   "codemirror_mode": {
    "name": "ipython",
    "version": 3
   },
   "file_extension": ".py",
   "mimetype": "text/x-python",
   "name": "python",
   "nbconvert_exporter": "python",
   "pygments_lexer": "ipython3",
   "version": "3.8.5"
  }
 },
 "nbformat": 4,
 "nbformat_minor": 4
}
