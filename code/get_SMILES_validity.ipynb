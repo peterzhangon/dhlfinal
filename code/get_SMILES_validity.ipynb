{
 "cells": [
  {
   "cell_type": "code",
   "execution_count": 1,
   "metadata": {},
   "outputs": [
    {
     "name": "stdout",
     "output_type": "stream",
     "text": [
      "\u001b[34mdrd2\u001b[m\u001b[m\r\n",
      "drd2_success_rate.txt\r\n",
      "get_SMILES_validity.ipynb\r\n",
      "\u001b[34mlogp04\u001b[m\u001b[m\r\n",
      "\u001b[34mlogp06\u001b[m\u001b[m\r\n",
      "\u001b[34mqed\u001b[m\u001b[m\r\n",
      "qed_success_rate.txt\r\n",
      "top_models.txt\r\n",
      "validate_drd2_0to19-2021.04.13-21.37.05.log\r\n",
      "validate_logp04_0to18-2021.04.13-21.36.42.log\r\n",
      "validate_logp06_0to18-2021.04.13-21.36.42.log\r\n",
      "validate_qed_0to6-2021.04.14-08.17.48.log\r\n",
      "validate_qed_15to19-2021.04.14-08.20.03.log\r\n",
      "validate_qed_7to14-2021.04.14-08.18.30.log\r\n"
     ]
    }
   ],
   "source": [
    "!ls "
   ]
  },
  {
   "cell_type": "code",
   "execution_count": 3,
   "metadata": {},
   "outputs": [],
   "source": [
    "import pandas as pd\n",
    "import os\n",
    "import glob"
   ]
  },
  {
   "cell_type": "code",
   "execution_count": 19,
   "metadata": {},
   "outputs": [],
   "source": [
    "def get_percent_valid(target_dir, file='/results.*'):\n",
    "    total_n = 0\n",
    "    invalid = 0\n",
    "    for f in glob.glob('/'.join([target_dir,file])):\n",
    "        df = pd.read_csv(f, sep=\"\\s+\", header=None)\n",
    "        total_n += len(df)\n",
    "        invalid +=sum(df.iloc[:,1]=='None')\n",
    "    percent_valid = 1-invalid/total_n\n",
    "    return round(percent_valid*100,1)\n",
    "    "
   ]
  },
  {
   "cell_type": "code",
   "execution_count": 23,
   "metadata": {},
   "outputs": [
    {
     "name": "stdout",
     "output_type": "stream",
     "text": [
      "qed validity: 99.8\n",
      "drd2 validity: 100.0\n",
      "logp04 validity: 99.8\n",
      "logp06 validity: 99.6\n"
     ]
    }
   ],
   "source": [
    "print('qed validity:', get_percent_valid('qed', 'results.5'))\n",
    "print('drd2 validity:', get_percent_valid('drd2', 'results.18'))\n",
    "print('logp04 validity:', get_percent_valid('logp04', 'results.9'))\n",
    "print('logp06 validity:', get_percent_valid('logp06', 'results.9'))"
   ]
  },
  {
   "cell_type": "code",
   "execution_count": null,
   "metadata": {},
   "outputs": [],
   "source": []
  }
 ],
 "metadata": {
  "kernelspec": {
   "display_name": "Python 3",
   "language": "python",
   "name": "python3"
  },
  "language_info": {
   "codemirror_mode": {
    "name": "ipython",
    "version": 3
   },
   "file_extension": ".py",
   "mimetype": "text/x-python",
   "name": "python",
   "nbconvert_exporter": "python",
   "pygments_lexer": "ipython3",
   "version": "3.8.5"
  }
 },
 "nbformat": 4,
 "nbformat_minor": 4
}
